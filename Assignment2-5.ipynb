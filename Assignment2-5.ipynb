{
 "cells": [
  {
   "cell_type": "code",
   "execution_count": 1,
   "metadata": {},
   "outputs": [
    {
     "name": "stdout",
     "output_type": "stream",
     "text": [
      "['  <row Id=\"7\" PostHistoryTypeId=\"2\" PostId=\"5\" RevisionGUID=\"009bca93-fce2-44ed-a277-a8452650a627\" CreationDate=\"2014-05-13T23:58:30.457\" UserId=\"5\" Text=\"I\\'ve always been interested in machine learning, but I can\\'t figure out one thing about starting out with a simple &quot;Hello World&quot; example - how can I avoid hard-coding behavior?&#xD;&#xA;&#xD;&#xA;For example, if I wanted to &quot;teach&quot; a bot how to avoid randomly placed obstacles, I couldn\\'t just use relative motion, because the obstacles move around, but I don\\'t want to hard code, say, distance, because that ruins the whole point of machine learning.&#xD;&#xA;&#xD;&#xA;Obviously, randomly generating code would be impractical, so how could I do this?\" />', '  <row Id=\"8\" PostHistoryTypeId=\"1\" PostId=\"5\" RevisionGUID=\"009bca93-fce2-44ed-a277-a8452650a627\" CreationDate=\"2014-05-13T23:58:30.457\" UserId=\"5\" Text=\"How can I do simple machine learning without hard-coding behavior?\" />']\n"
     ]
    }
   ],
   "source": [
    "from pyspark.sql import SparkSession\n",
    "spark = SparkSession.builder \\\n",
    "    .master(\"local[*]\") \\\n",
    "    .appName(\"Learning_Spark\") \\\n",
    "    .getOrCreate()\n",
    "\n",
    "sc = spark.sparkContext\n",
    "book = sc.textFile(\"./Users.xml\")\n",
    "book2 = sc.textFile(\"./PostHistory.xml\")\n",
    "book3 = sc.textFile(\"./Comments.xml\")\n",
    "book.join(book2).distinct()\n",
    "book2.join(book3).distinct()\n",
    "item = book2.filter(lambda x: \"row\" in x)\n",
    "print(item.take(2))"
   ]
  },
  {
   "cell_type": "markdown",
   "metadata": {},
   "source": [
    "GRADUATE STUDENTS: Using the users.xml, comments.xml and PostHistory.xml files, produce a\n",
    "single file that includes the following information: DisplayName, Number of Comments, total\n",
    "Score and Number of posts. This file should have the users (DisplayName) sorted by score,\n",
    "descending from higher to lower."
   ]
  }
 ],
 "metadata": {
  "kernelspec": {
   "display_name": "Python 3",
   "language": "python",
   "name": "python3"
  },
  "language_info": {
   "codemirror_mode": {
    "name": "ipython",
    "version": 3
   },
   "file_extension": ".py",
   "mimetype": "text/x-python",
   "name": "python",
   "nbconvert_exporter": "python",
   "pygments_lexer": "ipython3",
   "version": "3.6.3"
  }
 },
 "nbformat": 4,
 "nbformat_minor": 2
}
