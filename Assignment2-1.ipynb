{
 "cells": [
  {
   "cell_type": "code",
   "execution_count": 1,
   "metadata": {},
   "outputs": [
    {
     "data": {
      "text/plain": [
       "['Nick Larsen',\n",
       " 'Ayush',\n",
       " 'ontek',\n",
       " 'vkb',\n",
       " 'Giorgi Gzirishvili',\n",
       " 'Rafael_Espericueta',\n",
       " 'Alex Azazel',\n",
       " 'James Wang',\n",
       " 'Adam Acosta',\n",
       " 'Dan Anton',\n",
       " 'ode2k',\n",
       " 'Georgiana.b',\n",
       " 'Manish Ranjan',\n",
       " 'Dato Janez',\n",
       " 'Neuromeda',\n",
       " 'Mr. Rooter of Southeast GA',\n",
       " 'Abesalomi Gogatishvili',\n",
       " 'FranGoitia',\n",
       " 'Jenna Kwon',\n",
       " 'Tedo G.',\n",
       " 'mlibre',\n",
       " 'Jeff',\n",
       " 'Aditya Gogoi',\n",
       " 'Donovan McMurray',\n",
       " 'Jesse Scherer',\n",
       " 'Melinda Weathers',\n",
       " 'N.C.W.',\n",
       " 'DRozen',\n",
       " 'rajb245',\n",
       " 'G.T.',\n",
       " 'Dato Gogolashvili',\n",
       " 'Ankush Chauhan',\n",
       " 'Scott',\n",
       " 'David Jashi',\n",
       " 'Ilia Chigogidze',\n",
       " 'German',\n",
       " 'Franco Piccolo',\n",
       " 'Dean Webb',\n",
       " 'Tae-Sung Shin',\n",
       " 'Jeremy Farrell',\n",
       " 'Clark Lin',\n",
       " 'Adam Sarwar',\n",
       " 'Gio Nari',\n",
       " 'mLstudent33',\n",
       " 'Lance Ruo Zhang',\n",
       " 'alerera',\n",
       " 'Max Boonbandansook',\n",
       " 'ErinPac']"
      ]
     },
     "execution_count": 1,
     "metadata": {},
     "output_type": "execute_result"
    }
   ],
   "source": [
    "from pyspark.sql import SparkSession\n",
    "\n",
    "spark = SparkSession.builder \\\n",
    "    .master(\"local[*]\") \\\n",
    "    .appName(\"Learning_Spark\") \\\n",
    "    .getOrCreate()\n",
    "\n",
    "sc = spark.sparkContext\n",
    "book = sc.textFile(\"./Users.xml\")\n",
    "javaLines = book.filter(lambda line: \"Georgia\" in line).map(lambda line: (line.split('\"')[7]))\n",
    "javaLines.collect()"
   ]
  },
  {
   "cell_type": "markdown",
   "metadata": {},
   "source": [
    "From the Users.xml file, find all users which are from Georgia and output to screen their\n",
    "DisplayName only. (20 points)"
   ]
  }
 ],
 "metadata": {
  "kernelspec": {
   "display_name": "Python 3",
   "language": "python",
   "name": "python3"
  },
  "language_info": {
   "codemirror_mode": {
    "name": "ipython",
    "version": 3
   },
   "file_extension": ".py",
   "mimetype": "text/x-python",
   "name": "python",
   "nbconvert_exporter": "python",
   "pygments_lexer": "ipython3",
   "version": "3.6.3"
  }
 },
 "nbformat": 4,
 "nbformat_minor": 2
}
